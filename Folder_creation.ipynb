{
 "cells": [
  {
   "cell_type": "code",
   "execution_count": 1,
   "id": "de76e2ee",
   "metadata": {},
   "outputs": [
    {
     "name": "stdout",
     "output_type": "stream",
     "text": [
      "Project structure created successfully.\n"
     ]
    }
   ],
   "source": [
    "import os\n",
    "\n",
    "folders = [\n",
    "    \"components\",\n",
    "    \"config\",\n",
    "    \"exception\",\n",
    "    \"logging\",\n",
    "    \"pipeline\",\n",
    "    \"utils\",\n",
    "    \"constant\",\n",
    "    \"notebook\"\n",
    "]\n",
    "\n",
    "files = {\n",
    "    \"components\": [\"__init__.py\", \"data_ingestion.py\", \"data_preprocessing.py\", \"data_validation.py\", \"model_evaluation.py\", \"model_trainer.py\"],\n",
    "    \"config\": [\"__init__.py\", \"artifact.py\", \"config.py\"],\n",
    "    \"exception\": [\"__init__.py\", \"exception.py\"],\n",
    "    \"logging\": [\"__init__.py\", \"logging.py\"],\n",
    "    \"pipeline\": [\"__init__.py\", \"training_pipeline.py\"],\n",
    "    \"utils\": [\"__init__.py\", \"util.py\"],\n",
    "    \"constant\": [\"variables.py\"],\n",
    "    \"notebook\": [\"test.ipynb\"],\n",
    "    \"\": [\".dockerignore\", \".gitignore\", \"Dockerfile\", \"README.md\", \"main.py\", \"requirements.txt\", \"setup.py\"]\n",
    "}\n",
    "\n",
    "for folder in folders:\n",
    "    os.makedirs(folder, exist_ok=True)\n",
    "    for file in files.get(folder, []):\n",
    "        with open(os.path.join(folder, file), 'w') as f:\n",
    "            pass  # create empty file\n",
    "\n",
    "# Create root-level files\n",
    "for root_file in files[\"\"]:\n",
    "    with open(root_file, 'w') as f:\n",
    "        pass  # create empty file\n",
    "\n",
    "print(\"Project structure created successfully.\")\n"
   ]
  },
  {
   "cell_type": "code",
   "execution_count": null,
   "id": "da9bc47f",
   "metadata": {},
   "outputs": [],
   "source": []
  }
 ],
 "metadata": {
  "kernelspec": {
   "display_name": "base",
   "language": "python",
   "name": "python3"
  },
  "language_info": {
   "codemirror_mode": {
    "name": "ipython",
    "version": 3
   },
   "file_extension": ".py",
   "mimetype": "text/x-python",
   "name": "python",
   "nbconvert_exporter": "python",
   "pygments_lexer": "ipython3",
   "version": "3.12.4"
  }
 },
 "nbformat": 4,
 "nbformat_minor": 5
}
